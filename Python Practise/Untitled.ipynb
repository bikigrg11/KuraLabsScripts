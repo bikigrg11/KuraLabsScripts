{
 "cells": [
  {
   "cell_type": "code",
   "execution_count": 10,
   "id": "3e213036",
   "metadata": {},
   "outputs": [],
   "source": [
    "def sum1(n):\n",
    "    total_sum = 0\n",
    "    \n",
    "    for a in range(n+1):\n",
    "        total_sum += a\n",
    "    \n",
    "    return total_sum\n"
   ]
  },
  {
   "cell_type": "code",
   "execution_count": 11,
   "id": "def3e632",
   "metadata": {},
   "outputs": [
    {
     "data": {
      "text/plain": [
       "55"
      ]
     },
     "execution_count": 11,
     "metadata": {},
     "output_type": "execute_result"
    }
   ],
   "source": [
    "sum1(10)"
   ]
  },
  {
   "cell_type": "code",
   "execution_count": 17,
   "id": "d9271a80",
   "metadata": {},
   "outputs": [],
   "source": [
    "def sum2(n):\n",
    "    \n",
    "    return (n*(n+1))/2\n",
    "    "
   ]
  },
  {
   "cell_type": "code",
   "execution_count": 18,
   "id": "79606f7d",
   "metadata": {},
   "outputs": [
    {
     "data": {
      "text/plain": [
       "55.0"
      ]
     },
     "execution_count": 18,
     "metadata": {},
     "output_type": "execute_result"
    }
   ],
   "source": [
    "sum2(10)"
   ]
  },
  {
   "cell_type": "code",
   "execution_count": 19,
   "id": "81680f52",
   "metadata": {},
   "outputs": [],
   "source": [
    "num = list(range(100))"
   ]
  },
  {
   "cell_type": "code",
   "execution_count": null,
   "id": "9631065e",
   "metadata": {},
   "outputs": [],
   "source": []
  },
  {
   "cell_type": "code",
   "execution_count": 22,
   "id": "2b5a17c1",
   "metadata": {},
   "outputs": [],
   "source": [
    "dicton = {\n",
    "    \"a\":1,\n",
    "    \"b\":2,\n",
    "    \"c\":3\n",
    "}"
   ]
  },
  {
   "cell_type": "code",
   "execution_count": 26,
   "id": "dde8dafb",
   "metadata": {},
   "outputs": [
    {
     "name": "stdout",
     "output_type": "stream",
     "text": [
      "3\n"
     ]
    }
   ],
   "source": [
    "print(dicton[\"c\"])"
   ]
  },
  {
   "cell_type": "code",
   "execution_count": 28,
   "id": "7a97d12b",
   "metadata": {},
   "outputs": [
    {
     "name": "stdout",
     "output_type": "stream",
     "text": [
      "a\n",
      "b\n",
      "c\n"
     ]
    }
   ],
   "source": [
    " for letter in dicton:\n",
    "        print(letter)\n",
    "        "
   ]
  },
  {
   "cell_type": "code",
   "execution_count": 29,
   "id": "75612b7c",
   "metadata": {},
   "outputs": [],
   "source": [
    "num = [1,2,3,4]\n"
   ]
  },
  {
   "cell_type": "code",
   "execution_count": 31,
   "id": "a32404f8",
   "metadata": {},
   "outputs": [
    {
     "ename": "AttributeError",
     "evalue": "'list' object has no attribute 'contains'",
     "output_type": "error",
     "traceback": [
      "\u001b[0;31m---------------------------------------------------------------------------\u001b[0m",
      "\u001b[0;31mAttributeError\u001b[0m                            Traceback (most recent call last)",
      "Input \u001b[0;32mIn [31]\u001b[0m, in \u001b[0;36m<cell line: 1>\u001b[0;34m()\u001b[0m\n\u001b[0;32m----> 1\u001b[0m \u001b[38;5;28;01mif\u001b[39;00m \u001b[43mnum\u001b[49m\u001b[38;5;241;43m.\u001b[39;49m\u001b[43mcontains\u001b[49m(\u001b[38;5;241m3\u001b[39m):\n\u001b[1;32m      2\u001b[0m     \u001b[38;5;28mprint\u001b[39m(\u001b[38;5;28;01mTrue\u001b[39;00m)\n",
      "\u001b[0;31mAttributeError\u001b[0m: 'list' object has no attribute 'contains'"
     ]
    }
   ],
   "source": [
    "if num.contains(3):\n",
    "    print(True)"
   ]
  },
  {
   "cell_type": "code",
   "execution_count": null,
   "id": "538ac106",
   "metadata": {},
   "outputs": [],
   "source": []
  }
 ],
 "metadata": {
  "kernelspec": {
   "display_name": "Python 3 (ipykernel)",
   "language": "python",
   "name": "python3"
  },
  "language_info": {
   "codemirror_mode": {
    "name": "ipython",
    "version": 3
   },
   "file_extension": ".py",
   "mimetype": "text/x-python",
   "name": "python",
   "nbconvert_exporter": "python",
   "pygments_lexer": "ipython3",
   "version": "3.9.12"
  }
 },
 "nbformat": 4,
 "nbformat_minor": 5
}
